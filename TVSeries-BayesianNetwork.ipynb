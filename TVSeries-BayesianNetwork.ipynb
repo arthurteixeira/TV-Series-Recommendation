{
 "cells": [
  {
   "cell_type": "code",
   "execution_count": 32,
   "metadata": {
    "scrolled": true
   },
   "outputs": [
    {
     "data": {
      "text/plain": [
       "0.7524"
      ]
     },
     "execution_count": 32,
     "metadata": {},
     "output_type": "execute_result"
    }
   ],
   "source": [
    "import numpy\n",
    "from pomegranate import *\n",
    "\n",
    "#idade = 20\n",
    "#duracao = 30\n",
    "idade = DiscreteDistribution({'baby': 0, 'crianca': 0, 'pre-adolescente': 0, 'adolescente': 0,\n",
    "                             'adulto 1': 0.99, 'adulto 2': 0.7, 'idoso': 0})\n",
    "\n",
    "duracao = DiscreteDistribution({'baixo': 0.4, 'medio': 0.95 , 'longo': 0.5, 'muito longo': 0})\n",
    "\n",
    "serie = ConditionalProbabilityTable(\n",
    "        [['baby',            'baixo',       'friends', 0.0],\n",
    "         ['baby',            'medio',       'friends', 0.0],\n",
    "         ['baby',            'longo',       'friends', 0.0],\n",
    "         ['baby',            'muito longo', 'friends', 0.0],\n",
    "         ['crianca',         'baixo',       'friends', 0.25],\n",
    "         ['crianca',         'medio',       'friends', 0.25],\n",
    "         ['crianca',         'longo',       'friends', 0.25],\n",
    "         ['crianca',         'muito longo', 'friends', 0.25],\n",
    "         ['pre-adolescente', 'baixo',       'friends', 0.8], #\n",
    "         ['pre-adolescente', 'medio',       'friends', 0.5], #\n",
    "         ['pre-adolescente', 'longo',       'friends', 0.25],\n",
    "         ['pre-adolescente', 'muito longo', 'friends', 0.0],\n",
    "         ['adolescente',     'baixo',       'friends', 1.0], #\n",
    "         ['adolescente',     'medio',       'friends', 0.8], #\n",
    "         ['adolescente',     'longo',       'friends', 0.5], #\n",
    "         ['adolescente',     'muito longo', 'friends', 0.25],\n",
    "         ['adulto 1',        'baixo',       'friends', 1.0], #\n",
    "         ['adulto 1',        'medio',       'friends', 0.8], #\n",
    "         ['adulto 1',        'longo',       'friends', 0.5], #\n",
    "         ['adulto 1',        'muito longo', 'friends', 0.25],\n",
    "         ['adulto 2',        'baixo',       'friends', 0.8], #\n",
    "         ['adulto 2',        'medio',       'friends', 0.5], #\n",
    "         ['adulto 2',        'longo',       'friends', 0.25],\n",
    "         ['adulto 2',        'muito longo', 'friends', 0.0],\n",
    "         ['idoso',           'baixo',       'friends', 0.5], #\n",
    "         ['idoso',           'medio',       'friends', 0.25],\n",
    "         ['idoso',           'longo',       'friends', 0.0],\n",
    "         ['idoso',           'muito longo', 'friends', 0.0],\n",
    "         ['baby',            'baixo',       'vikings', 0.0],\n",
    "         ['baby',            'medio',       'vikings', 0.0],\n",
    "         ['baby',            'longo',       'vikings', 0.0],\n",
    "         ['baby',            'muito longo', 'vikings', 0.0],\n",
    "         ['crianca',         'baixo',       'vikings', 0.05],\n",
    "         ['crianca',         'medio',       'vikings', 0.05],\n",
    "         ['crianca',         'longo',       'vikings', 0.05],\n",
    "         ['crianca',         'muito longo', 'vikings', 0.10],\n",
    "         ['pre-adolescente', 'baixo',       'vikings', 0.15], #\n",
    "         ['pre-adolescente', 'medio',       'vikings', 0.15], #\n",
    "         ['pre-adolescente', 'longo',       'vikings', 0.20],\n",
    "         ['pre-adolescente', 'muito longo', 'vikings', 0.0],\n",
    "         ['adolescente',     'baixo',       'vikings', 0.40], #\n",
    "         ['adolescente',     'medio',       'vikings', 0.50], #\n",
    "         ['adolescente',     'longo',       'vikings', 0.70], #\n",
    "         ['adolescente',     'muito longo', 'vikings', 0.65],\n",
    "         ['adulto 1',        'baixo',       'vikings', 0.40], #\n",
    "         ['adulto 1',        'medio',       'vikings', 0.65], #\n",
    "         ['adulto 1',        'longo',       'vikings', 0.90], #\n",
    "         ['adulto 1',        'muito longo', 'vikings', 0.85],\n",
    "         ['adulto 2',        'baixo',       'vikings', 0.4], #\n",
    "         ['adulto 2',        'medio',       'vikings', 0.70], #\n",
    "         ['adulto 2',        'longo',       'vikings', 0.95],\n",
    "         ['adulto 2',        'muito longo', 'vikings', 0.80],\n",
    "         ['idoso',           'baixo',       'vikings', 0.20], #\n",
    "         ['idoso',           'medio',       'vikings', 0.30],\n",
    "         ['idoso',           'longo',       'vikings', 0.50],\n",
    "         ['idoso',           'muito longo', 'vikings', 0.50]], [idade, duracao])\n",
    "\n",
    "s1 = Node(idade, name=\"idade\")\n",
    "s2 = Node(duracao, name=\"duracao\")\n",
    "s3 = Node(serie, name=\"serie\")\n",
    "\n",
    "model = BayesianNetwork(\"TV Series Recommendation\")\n",
    "model.add_states(s1, s2, s3)\n",
    "model.add_edge(s1, s3)\n",
    "model.add_edge(s2, s3)\n",
    "model.bake()\n",
    "\n",
    "model.probability(['adulto 1', 'medio', 'friends'])"
   ]
  },
  {
   "cell_type": "code",
   "execution_count": 33,
   "metadata": {},
   "outputs": [
    {
     "data": {
      "text/plain": [
       "0.611325"
      ]
     },
     "execution_count": 33,
     "metadata": {},
     "output_type": "execute_result"
    }
   ],
   "source": [
    "model.probability(['adulto 1', 'medio', 'vikings'])"
   ]
  },
  {
   "cell_type": "code",
   "execution_count": null,
   "metadata": {},
   "outputs": [],
   "source": []
  }
 ],
 "metadata": {
  "kernelspec": {
   "display_name": "Python 3",
   "language": "python",
   "name": "python3"
  },
  "language_info": {
   "codemirror_mode": {
    "name": "ipython",
    "version": 3
   },
   "file_extension": ".py",
   "mimetype": "text/x-python",
   "name": "python",
   "nbconvert_exporter": "python",
   "pygments_lexer": "ipython3",
   "version": "3.7.3"
  }
 },
 "nbformat": 4,
 "nbformat_minor": 2
}
