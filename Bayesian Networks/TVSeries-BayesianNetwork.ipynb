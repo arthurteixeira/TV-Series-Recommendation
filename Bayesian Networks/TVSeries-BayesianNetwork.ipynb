{
 "cells": [
  {
   "cell_type": "code",
   "execution_count": 1,
   "metadata": {
    "scrolled": true
   },
   "outputs": [
    {
     "data": {
      "text/plain": [
       "0.21599999999999997"
      ]
     },
     "execution_count": 1,
     "metadata": {},
     "output_type": "execute_result"
    }
   ],
   "source": [
    "from pomegranate import *\n",
    "import numpy\n",
    "\n",
    "idade_f = DiscreteDistribution({'pre-adolescente': 0.1, 'adolescente': 0.45, 'adulto 1': 0.45})\n",
    "\n",
    "duracao_f = DiscreteDistribution({'baixo': 0.8, 'medio': 0.15 , 'longo': 0.05})\n",
    "\n",
    "friends = ConditionalProbabilityTable(\n",
    "        [['pre-adolescente', 'baixo',       'friends', 0.6], \n",
    "         ['pre-adolescente', 'medio',       'friends', 0.4], \n",
    "         ['pre-adolescente', 'longo',       'friends', 0.0],\n",
    "         ['adolescente',     'baixo',       'friends', 0.6], \n",
    "         ['adolescente',     'medio',       'friends', 0.3], \n",
    "         ['adolescente',     'longo',       'friends', 0.1],\n",
    "         ['adulto 1',        'baixo',       'friends', 0.6], \n",
    "         ['adulto 1',        'medio',       'friends', 0.3], \n",
    "         ['adulto 1',        'longo',       'friends', 0.1]], [idade_f, duracao_f])\n",
    "         \n",
    "idade_v = DiscreteDistribution({'pre-adolescente': 0.05, 'adolescente': 0.1, 'adulto 1': 0.7, \n",
    "                                'adulto 2': 0.15})\n",
    "\n",
    "duracao_v = DiscreteDistribution({'baixo': 0.05, 'medio': 0.15 , 'longo': 0.7,\n",
    "                                  'muito longo': 0.1})         \n",
    "         \n",
    "vikings = ConditionalProbabilityTable(        \n",
    "         [['pre-adolescente', 'baixo',       'vikings', 0.1], \n",
    "         ['pre-adolescente', 'medio',       'vikings', 0.2],\n",
    "         ['pre-adolescente', 'longo',       'vikings', 0.5],\n",
    "         ['pre-adolescente', 'muito longo', 'vikings', 0.2],\n",
    "         ['adolescente',     'baixo',       'vikings', 0.1], \n",
    "         ['adolescente',     'medio',       'vikings', 0.2], \n",
    "         ['adolescente',     'longo',       'vikings', 0.5], \n",
    "         ['adolescente',     'muito longo', 'vikings', 0.2],\n",
    "         ['adulto 1',        'baixo',       'vikings', 0.1], \n",
    "         ['adulto 1',        'medio',       'vikings', 0.15], \n",
    "         ['adulto 1',        'longo',       'vikings', 0.6], \n",
    "         ['adulto 1',        'muito longo', 'vikings', 0.15],\n",
    "         ['adulto 2',        'baixo',       'vikings', 0.1], \n",
    "         ['adulto 2',        'medio',       'vikings', 0.15], \n",
    "         ['adulto 2',        'longo',       'vikings', 0.6],\n",
    "         ['adulto 2',        'muito longo', 'vikings', 0.15]], [idade_v, duracao_v])\n",
    "\n",
    "s1 = Node(idade_f, name=\"idade_f\")\n",
    "s2 = Node(duracao_f, name=\"duracao_f\")\n",
    "s3 = Node(friends, name=\"friends\")\n",
    "\n",
    "model = BayesianNetwork(\"Friends\")\n",
    "model.add_states(s1, s2, s3)\n",
    "model.add_edge(s1, s3)\n",
    "model.add_edge(s2, s3)\n",
    "model.bake()\n",
    "\n",
    "model.probability(['adulto 1', 'baixo', 'friends'])"
   ]
  },
  {
   "cell_type": "code",
   "execution_count": 2,
   "metadata": {},
   "outputs": [
    {
     "data": {
      "text/plain": [
       "0.003500000000000001"
      ]
     },
     "execution_count": 2,
     "metadata": {},
     "output_type": "execute_result"
    }
   ],
   "source": [
    "s1 = Node(idade_v, name=\"idade_v\")\n",
    "s2 = Node(duracao_v, name=\"duracao_v\")\n",
    "s3 = Node(vikings, name=\"vikings\")\n",
    "\n",
    "model2 = BayesianNetwork(\"Vikings\")\n",
    "model2.add_states(s1, s2, s3)\n",
    "model2.add_edge(s1, s3)\n",
    "model2.add_edge(s2, s3)\n",
    "model2.bake()\n",
    "\n",
    "model2.probability(['adulto 1', 'baixo', 'vikings'])"
   ]
  },
  {
   "cell_type": "code",
   "execution_count": null,
   "metadata": {},
   "outputs": [],
   "source": []
  }
 ],
 "metadata": {
  "kernelspec": {
   "display_name": "Python 3",
   "language": "python",
   "name": "python3"
  },
  "language_info": {
   "codemirror_mode": {
    "name": "ipython",
    "version": 3
   },
   "file_extension": ".py",
   "mimetype": "text/x-python",
   "name": "python",
   "nbconvert_exporter": "python",
   "pygments_lexer": "ipython3",
   "version": "3.7.3"
  }
 },
 "nbformat": 4,
 "nbformat_minor": 2
}
